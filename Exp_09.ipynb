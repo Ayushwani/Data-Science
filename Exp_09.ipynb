{
  "nbformat": 4,
  "nbformat_minor": 0,
  "metadata": {
    "colab": {
      "provenance": []
    },
    "kernelspec": {
      "name": "python3",
      "display_name": "Python 3"
    },
    "language_info": {
      "name": "python"
    }
  },
  "cells": [
    {
      "cell_type": "markdown",
      "source": [
        "**D.S. Experiment-09**"
      ],
      "metadata": {
        "id": "BoacXLa7Ctdo"
      }
    },
    {
      "cell_type": "code",
      "execution_count": 1,
      "metadata": {
        "id": "J88Q8wxaB9W4"
      },
      "outputs": [],
      "source": [
        "# Import necessary libraries\n",
        "import numpy as np\n",
        "import pandas as pd\n",
        "from sklearn.datasets import load_iris\n",
        "from sklearn.model_selection import train_test_split\n",
        "from sklearn.linear_model import LogisticRegression\n",
        "from sklearn.feature_selection import SequentialFeatureSelector\n",
        "from sklearn.metrics import accuracy_score\n"
      ]
    },
    {
      "cell_type": "code",
      "source": [
        "# Load the Iris dataset\n",
        "iris = load_iris()\n",
        "X = iris.data\n",
        "y = iris.target"
      ],
      "metadata": {
        "id": "yHdmV_Q4CIyU"
      },
      "execution_count": 2,
      "outputs": []
    },
    {
      "cell_type": "code",
      "source": [
        "# Split the dataset into training and testing sets\n",
        "X_train, X_test, y_train, y_test = train_test_split(X, y, test_size=0.3, random_state=42)"
      ],
      "metadata": {
        "id": "HZCKA1CYCOHy"
      },
      "execution_count": 3,
      "outputs": []
    },
    {
      "cell_type": "code",
      "source": [
        "# Initialize the model\n",
        "model = LogisticRegression(max_iter=200)"
      ],
      "metadata": {
        "id": "YYUYQ6RzCRwA"
      },
      "execution_count": 4,
      "outputs": []
    },
    {
      "cell_type": "code",
      "source": [
        "# Apply Sequential Feature Selector with forward selection\n",
        "selector = SequentialFeatureSelector(model, n_features_to_select='auto', direction='forward', cv=5)\n",
        "\n",
        "# Fit the selector on the training data\n",
        "selector.fit(X_train, y_train)\n",
        "\n",
        "# Get the selected features\n",
        "selected_features = selector.get_support()\n",
        "print(\"Selected Features: \", selected_features)"
      ],
      "metadata": {
        "colab": {
          "base_uri": "https://localhost:8080/"
        },
        "id": "hOzW7I8zCWFY",
        "outputId": "7a79adcc-60bc-481b-e710-e06a7956ab6d"
      },
      "execution_count": 5,
      "outputs": [
        {
          "output_type": "stream",
          "name": "stdout",
          "text": [
            "Selected Features:  [False False  True  True]\n"
          ]
        }
      ]
    },
    {
      "cell_type": "code",
      "source": [
        "# Create a new dataset with the selected features\n",
        "X_train_selected = X_train[:, selected_features]\n",
        "X_test_selected = X_test[:, selected_features]\n",
        "\n",
        "# Train the model using the selected features\n",
        "model.fit(X_train_selected, y_train)\n",
        "\n",
        "# Make predictions\n",
        "y_pred = model.predict(X_test_selected)\n",
        "\n",
        "# Evaluate performance\n",
        "accuracy = accuracy_score(y_test, y_pred)\n",
        "print(f\"Model Accuracy with Selected Features: {accuracy:.4f}\")"
      ],
      "metadata": {
        "colab": {
          "base_uri": "https://localhost:8080/"
        },
        "id": "lWc8jJ_TCaiH",
        "outputId": "1f33bfef-0cb9-42b3-c75d-c51b610a4482"
      },
      "execution_count": 6,
      "outputs": [
        {
          "output_type": "stream",
          "name": "stdout",
          "text": [
            "Model Accuracy with Selected Features: 1.0000\n"
          ]
        }
      ]
    },
    {
      "cell_type": "code",
      "source": [
        "# Visualizing the Selected Features and Printing them\n",
        "selected_feature_indices = np.where(selected_features)[0]\n",
        "selected_feature_names = np.array(iris.feature_names)[selected_feature_indices]\n",
        "\n",
        "# Print the selected feature names\n",
        "print(\"Selected Features:\", selected_feature_names)\n",
        "\n",
        "# Create a new dataset with the selected features\n",
        "X_train_selected = X_train[:, selected_feature_indices]\n",
        "X_test_selected = X_test[:, selected_feature_indices]\n",
        "\n",
        "# Train the model using the selected features\n",
        "model.fit(X_train_selected, y_train)\n",
        "\n",
        "# Make predictions\n",
        "y_pred = model.predict(X_test_selected)\n",
        "\n",
        "# Evaluate performance\n",
        "accuracy = accuracy_score(y_test, y_pred)\n",
        "print(f\"Model Accuracy with Selected Features: {accuracy:.4f}\")"
      ],
      "metadata": {
        "colab": {
          "base_uri": "https://localhost:8080/"
        },
        "id": "ENb7ckSJCgGh",
        "outputId": "86ff1d82-0057-4aec-d569-28b40500502c"
      },
      "execution_count": 7,
      "outputs": [
        {
          "output_type": "stream",
          "name": "stdout",
          "text": [
            "Selected Features: ['petal length (cm)' 'petal width (cm)']\n",
            "Model Accuracy with Selected Features: 1.0000\n"
          ]
        }
      ]
    }
  ]
}