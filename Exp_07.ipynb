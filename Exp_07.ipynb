{
  "nbformat": 4,
  "nbformat_minor": 0,
  "metadata": {
    "colab": {
      "provenance": []
    },
    "kernelspec": {
      "name": "python3",
      "display_name": "Python 3"
    },
    "language_info": {
      "name": "python"
    }
  },
  "cells": [
    {
      "cell_type": "markdown",
      "source": [
        "**D.S. EXPERIMENT - 07**"
      ],
      "metadata": {
        "id": "mTEXVIx1B1Si"
      }
    },
    {
      "cell_type": "code",
      "execution_count": 1,
      "metadata": {
        "colab": {
          "base_uri": "https://localhost:8080/"
        },
        "id": "WkfWaDNNA8ne",
        "outputId": "bbd9960f-e736-4a49-f614-bcc1a24233e4"
      },
      "outputs": [
        {
          "output_type": "stream",
          "name": "stdout",
          "text": [
            "Entropy: 0.9852281357457124\n"
          ]
        }
      ],
      "source": [
        "import numpy as np\n",
        "import pandas as pd\n",
        "\n",
        "def entropy(labels):\n",
        "    value_counts = pd.Series(labels).value_counts(normalize=True)\n",
        "    return -np.sum(value_counts * np.log2(value_counts + 1e-10))  # Adding a small value to avoid log(0)\n",
        "\n",
        "# Example usage\n",
        "labels = ['yes', 'no', 'yes', 'yes', 'no', 'yes', 'no']\n",
        "print(\"Entropy:\", entropy(labels))\n"
      ]
    },
    {
      "cell_type": "code",
      "source": [
        "def information_gain(data, feature, target):\n",
        "    total_entropy = entropy(data[target])\n",
        "    feature_values = data[feature].unique()\n",
        "\n",
        "    weighted_entropy = 0\n",
        "    for value in feature_values:\n",
        "        subset = data[data[feature] == value]\n",
        "        weighted_entropy += (len(subset) / len(data)) * entropy(subset[target])\n",
        "\n",
        "    return total_entropy - weighted_entropy\n",
        "\n",
        "# Example usage\n",
        "data = pd.DataFrame({\n",
        "    'weather': ['sunny', 'sunny', 'overcast', 'rainy', 'rainy', 'rainy', 'overcast'],\n",
        "    'play': ['no', 'no', 'yes', 'yes', 'yes', 'no', 'yes']\n",
        "})\n",
        "\n",
        "print(\"Information Gain (weather):\", information_gain(data, 'weather', 'play'))\n"
      ],
      "metadata": {
        "colab": {
          "base_uri": "https://localhost:8080/"
        },
        "id": "XUR4LqEnBkyi",
        "outputId": "958b01fa-714a-4eca-a95f-540083fb463f"
      },
      "execution_count": 2,
      "outputs": [
        {
          "output_type": "stream",
          "name": "stdout",
          "text": [
            "Information Gain (weather): 0.5916727784998878\n"
          ]
        }
      ]
    },
    {
      "cell_type": "code",
      "source": [
        "from scipy.stats import chi2_contingency\n",
        "\n",
        "# Example usage with a contingency table\n",
        "data = pd.DataFrame({\n",
        "    'weather': ['sunny', 'sunny', 'overcast', 'rainy', 'rainy', 'rainy', 'overcast'],\n",
        "    'play': ['no', 'no', 'yes', 'yes', 'yes', 'no', 'yes']\n",
        "})\n",
        "\n",
        "contingency_table = pd.crosstab(data['weather'], data['play'])\n",
        "chi2, p, dof, expected = chi2_contingency(contingency_table)\n",
        "\n",
        "print(\"Chi-Square Statistic:\", chi2)\n",
        "print(\"p-value:\", p)\n",
        "print(\"Degrees of Freedom:\", dof)\n"
      ],
      "metadata": {
        "colab": {
          "base_uri": "https://localhost:8080/"
        },
        "id": "_WoY_ahxBr0i",
        "outputId": "683ea54f-e89f-42bc-e4d0-577a92eb50c1"
      },
      "execution_count": 3,
      "outputs": [
        {
          "output_type": "stream",
          "name": "stdout",
          "text": [
            "Chi-Square Statistic: 4.277777777777778\n",
            "p-value: 0.1177856432784892\n",
            "Degrees of Freedom: 2\n"
          ]
        }
      ]
    }
  ]
}