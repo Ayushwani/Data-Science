{
  "nbformat": 4,
  "nbformat_minor": 0,
  "metadata": {
    "colab": {
      "provenance": []
    },
    "kernelspec": {
      "name": "python3",
      "display_name": "Python 3"
    },
    "language_info": {
      "name": "python"
    }
  },
  "cells": [
    {
      "cell_type": "markdown",
      "source": [
        "**D.S. Experiment-10**"
      ],
      "metadata": {
        "id": "xnEVOf0lFQKf"
      }
    },
    {
      "cell_type": "code",
      "execution_count": 1,
      "metadata": {
        "colab": {
          "base_uri": "https://localhost:8080/"
        },
        "id": "jWWhXbugEeR_",
        "outputId": "a3a84f0a-181a-4192-8040-6500a52c520a"
      },
      "outputs": [
        {
          "output_type": "execute_result",
          "data": {
            "text/plain": [
              "(   sepal length (cm)  sepal width (cm)  petal length (cm)  petal width (cm)\n",
              " 0                5.1               3.5                1.4               0.2\n",
              " 1                4.9               3.0                1.4               0.2\n",
              " 2                4.7               3.2                1.3               0.2\n",
              " 3                4.6               3.1                1.5               0.2\n",
              " 4                5.0               3.6                1.4               0.2,\n",
              " 0    0\n",
              " 1    0\n",
              " 2    0\n",
              " 3    0\n",
              " 4    0\n",
              " dtype: int64)"
            ]
          },
          "metadata": {},
          "execution_count": 1
        }
      ],
      "source": [
        "# Import necessary libraries\n",
        "import pandas as pd\n",
        "from sklearn.datasets import load_iris\n",
        "from sklearn.ensemble import RandomForestClassifier\n",
        "from sklearn.model_selection import train_test_split, cross_val_score, KFold\n",
        "from sklearn.feature_selection import RFE\n",
        "from sklearn.linear_model import LogisticRegression\n",
        "import matplotlib.pyplot as plt\n",
        "from statsmodels.stats.outliers_influence import variance_inflation_factor\n",
        "\n",
        "# Load the Iris dataset (You can replace this with your own dataset)\n",
        "data = load_iris()\n",
        "X = pd.DataFrame(data.data, columns=data.feature_names)\n",
        "y = pd.Series(data.target)\n",
        "\n",
        "# Display the first few rows of the dataset\n",
        "X.head(), y.head()"
      ]
    },
    {
      "cell_type": "code",
      "source": [
        "# Create a RandomForest model\n",
        "rf_model = RandomForestClassifier()\n",
        "\n",
        "# Perform 5-fold cross-validation to evaluate the model\n",
        "cv_scores = cross_val_score(rf_model, X, y, cv=5, scoring='accuracy')\n",
        "\n",
        "# Display cross-validated accuracy\n",
        "print(f\"RandomForest Cross-validated accuracy: {cv_scores.mean():.3f}\")\n"
      ],
      "metadata": {
        "colab": {
          "base_uri": "https://localhost:8080/"
        },
        "id": "UZrQl34AEvK8",
        "outputId": "5cb9b902-f252-41ef-95ea-22c37d0b3af2"
      },
      "execution_count": 2,
      "outputs": [
        {
          "output_type": "stream",
          "name": "stdout",
          "text": [
            "RandomForest Cross-validated accuracy: 0.967\n"
          ]
        }
      ]
    },
    {
      "cell_type": "code",
      "source": [
        "# Fit the RandomForest model to the entire dataset\n",
        "rf_model.fit(X, y)\n",
        "\n",
        "# Get feature importance from the trained model\n",
        "importances = rf_model.feature_importances_\n",
        "\n",
        "# Create a DataFrame to hold feature names and importance scores\n",
        "feature_importance_df = pd.DataFrame({\n",
        "    'Feature': X.columns,\n",
        "    'Importance': importances\n",
        "})\n",
        "\n",
        "# Sort the features by importance in descending order\n",
        "feature_importance_df = feature_importance_df.sort_values(by='Importance', ascending=False)\n",
        "\n",
        "# Display feature importances\n",
        "print(\"Feature Importances:\")\n",
        "print(feature_importance_df)\n",
        "\n",
        "# Visualize feature importances\n",
        "plt.barh(feature_importance_df['Feature'], feature_importance_df['Importance'])\n",
        "plt.xlabel('Importance')\n",
        "plt.title('Feature Importance - Random Forest')\n",
        "plt.show()\n"
      ],
      "metadata": {
        "colab": {
          "base_uri": "https://localhost:8080/",
          "height": 576
        },
        "id": "t-VZbN2jE0DG",
        "outputId": "e07ed340-d228-4df0-a328-26f73b76f105"
      },
      "execution_count": 3,
      "outputs": [
        {
          "output_type": "stream",
          "name": "stdout",
          "text": [
            "Feature Importances:\n",
            "             Feature  Importance\n",
            "3   petal width (cm)    0.487119\n",
            "2  petal length (cm)    0.401235\n",
            "0  sepal length (cm)    0.086372\n",
            "1   sepal width (cm)    0.025275\n"
          ]
        },
        {
          "output_type": "display_data",
          "data": {
            "text/plain": [
              "<Figure size 640x480 with 1 Axes>"
            ],
            "image/png": "[encoded data removed]"
          },
          "metadata": {}
        }
      ]
    },
    {
      "cell_type": "code",
      "source": [
        "# Calculate VIF to check for multicollinearity\n",
        "vif_data = pd.DataFrame()\n",
        "vif_data['Feature'] = X.columns\n",
        "vif_data['VIF'] = [variance_inflation_factor(X.values, i) for i in range(X.shape[1])]\n",
        "\n",
        "# Display features with high VIF (indicating multicollinearity)\n",
        "print(\"VIF values:\")\n",
        "print(vif_data[vif_data['VIF'] > 5])  # Typically VIF > 5 indicates multicollinearity"
      ],
      "metadata": {
        "colab": {
          "base_uri": "https://localhost:8080/"
        },
        "id": "Nwu1RGPoE7jn",
        "outputId": "f97a392b-93af-43dc-a8a5-b4abf2c20436"
      },
      "execution_count": 4,
      "outputs": [
        {
          "output_type": "stream",
          "name": "stdout",
          "text": [
            "VIF values:\n",
            "             Feature         VIF\n",
            "0  sepal length (cm)  262.969348\n",
            "1   sepal width (cm)   96.353292\n",
            "2  petal length (cm)  172.960962\n",
            "3   petal width (cm)   55.502060\n"
          ]
        }
      ]
    },
    {
      "cell_type": "code",
      "source": [
        "# Initialize Recursive Feature Elimination (RFE) with RandomForest model\n",
        "rfe = RFE(estimator=rf_model, n_features_to_select=2)  # Choose how many features to select\n",
        "rfe.fit(X, y)\n",
        "\n",
        "# Get the selected features\n",
        "selected_features = X.columns[rfe.support_]\n",
        "print(f\"Selected features from RFE: {selected_features.tolist()}\")"
      ],
      "metadata": {
        "colab": {
          "base_uri": "https://localhost:8080/"
        },
        "id": "wp16tKpaFA5m",
        "outputId": "d96132ba-a113-43f2-bc82-c200c7101390"
      },
      "execution_count": 5,
      "outputs": [
        {
          "output_type": "stream",
          "name": "stdout",
          "text": [
            "Selected features from RFE: ['petal length (cm)', 'petal width (cm)']\n"
          ]
        }
      ]
    },
    {
      "cell_type": "code",
      "source": [
        "# Train and evaluate the final model using only the selected features from RFE\n",
        "final_rf_model = RandomForestClassifier()\n",
        "\n",
        "# Perform 5-fold cross-validation using only the selected features\n",
        "final_scores = cross_val_score(final_rf_model, X[selected_features], y, cv=5, scoring='accuracy')\n",
        "\n",
        "# Display final model cross-validated accuracy\n",
        "print(f\"Final Model with selected features Cross-validated accuracy: {final_scores.mean():.3f}\")\n"
      ],
      "metadata": {
        "colab": {
          "base_uri": "https://localhost:8080/"
        },
        "id": "ThYnaIRKFHDQ",
        "outputId": "3547a7e9-f64c-454b-8740-a9d27b081f15"
      },
      "execution_count": 6,
      "outputs": [
        {
          "output_type": "stream",
          "name": "stdout",
          "text": [
            "Final Model with selected features Cross-validated accuracy: 0.967\n"
          ]
        }
      ]
    }
  ]
}